{
 "cells": [
  {
   "cell_type": "code",
   "execution_count": 1,
   "metadata": {},
   "outputs": [
    {
     "name": "stderr",
     "output_type": "stream",
     "text": [
      "\r",
      "  0%|                                                                                            | 0/5 [00:00<?, ?it/s]"
     ]
    },
    {
     "name": "stdout",
     "output_type": "stream",
     "text": [
      "        DAY  AQI\n",
      "0  01/01/70  443\n",
      "1  01/02/70  501\n",
      "2  01/03/70  463\n",
      "3  01/04/70  642\n",
      "4  01/05/70  772\n",
      "5  01/06/70  293\n",
      "6  01/07/70  170\n",
      "7  01/08/70  481\n",
      "8  01/09/70   88\n",
      "9  01/10/70  231\n"
     ]
    },
    {
     "name": "stderr",
     "output_type": "stream",
     "text": [
      "100%|████████████████████████████████████████████████████████████████████████████████████| 5/5 [00:03<00:00,  1.26it/s]\n",
      "100%|████████████████████████████████████████████████████████████████████████████████████| 3/3 [01:31<00:00, 30.65s/it]\n",
      "No handles with labels found to put in legend.\n"
     ]
    },
    {
     "data": {
      "text/plain": [
       "Text(0, 0.5, 'AQI Data')"
      ]
     },
     "execution_count": 1,
     "metadata": {},
     "output_type": "execute_result"
    },
    {
     "data": {
      "image/png": "[encoded data removed]",
      "text/plain": [
       "<Figure size 432x288 with 1 Axes>"
      ]
     },
     "metadata": {
      "needs_background": "light"
     },
     "output_type": "display_data"
    }
   ],
   "source": [
    "import matplotlib.pyplot as plt\n",
    "import pandas as pd\n",
    "from statistics import median\n",
    "%matplotlib inline\n",
    "df = pd.read_csv('aqi.csv')\n",
    "print(df.head(10))\n",
    "def KolZur(df, data, window_size, num_iterations):                             #df is the dataframe, data can be the column\n",
    "    from tqdm import tqdm                                                      #gives the info about progress of for loop\n",
    "    n = len(df)                                                                #length of data base\n",
    "    p = int((window_size - 1)/2)                    \n",
    "    new_data = data                                                            #new list\n",
    "    for iteration in tqdm(range(1, num_iterations + 1)):\n",
    "        li = []                                                                #temporary list which will be updated after every iteration\n",
    "        for i in range(p*iteration):\n",
    "            li.append(median(new_data[:p*iteration]))                          #filling the gaps with median of the respective interval\n",
    "        for i in range(p*iteration, n - p*iteration):\n",
    "            total = 0 \n",
    "            for ii in range(-p, p):\n",
    "                total += new_data[i + ii]\n",
    "            li.append(total/window_size)\n",
    "        for i in range(p*iteration):\n",
    "            li.append(median(new_data[-p*iteration:]))                          #same as above\n",
    "        new_data = li                                                           #updating the list\n",
    "    df['KolZur ' + str(window_size) + ' ' + str(num_iterations)] = new_data     #finally adding a new column\n",
    "KolZur(df, df['AQI'], 15, 5)\n",
    "KolZur(df, df['AQI'], 365, 3)\n",
    "plt.plot(df['DAY'][5000:-5000], df['AQI'][5000:-5000])\n",
    "plt.plot(df['DAY'][5000:-5000], df['KolZur 15 5'][5000:-5000])\n",
    "plt.plot(df['DAY'][5000:-5000], df['KolZur 365 3'][5000:-5000])\n",
    "plt.legend(loc = 'best')\n",
    "plt.xlabel('days')\n",
    "plt.ylabel('AQI Data')"
   ]
  },
  {
   "cell_type": "code",
   "execution_count": 2,
   "metadata": {},
   "outputs": [],
   "source": [
    "df.to_csv('aqi_new.csv')"
   ]
  },
  {
   "cell_type": "code",
   "execution_count": null,
   "metadata": {},
   "outputs": [],
   "source": []
  },
  {
   "cell_type": "code",
   "execution_count": null,
   "metadata": {},
   "outputs": [],
   "source": []
  },
  {
   "cell_type": "code",
   "execution_count": null,
   "metadata": {},
   "outputs": [],
   "source": []
  },
  {
   "cell_type": "code",
   "execution_count": null,
   "metadata": {},
   "outputs": [],
   "source": []
  },
  {
   "cell_type": "code",
   "execution_count": null,
   "metadata": {},
   "outputs": [],
   "source": []
  },
  {
   "cell_type": "code",
   "execution_count": null,
   "metadata": {},
   "outputs": [],
   "source": []
  },
  {
   "cell_type": "code",
   "execution_count": null,
   "metadata": {},
   "outputs": [],
   "source": []
  },
  {
   "cell_type": "code",
   "execution_count": null,
   "metadata": {},
   "outputs": [],
   "source": []
  },
  {
   "cell_type": "code",
   "execution_count": null,
   "metadata": {},
   "outputs": [],
   "source": []
  },
  {
   "cell_type": "code",
   "execution_count": null,
   "metadata": {},
   "outputs": [],
   "source": []
  },
  {
   "cell_type": "code",
   "execution_count": null,
   "metadata": {},
   "outputs": [],
   "source": []
  },
  {
   "cell_type": "code",
   "execution_count": null,
   "metadata": {},
   "outputs": [],
   "source": []
  },
  {
   "cell_type": "code",
   "execution_count": null,
   "metadata": {},
   "outputs": [],
   "source": []
  },
  {
   "cell_type": "code",
   "execution_count": null,
   "metadata": {},
   "outputs": [],
   "source": []
  },
  {
   "cell_type": "code",
   "execution_count": null,
   "metadata": {},
   "outputs": [],
   "source": []
  },
  {
   "cell_type": "code",
   "execution_count": null,
   "metadata": {},
   "outputs": [],
   "source": []
  },
  {
   "cell_type": "code",
   "execution_count": null,
   "metadata": {},
   "outputs": [],
   "source": []
  },
  {
   "cell_type": "code",
   "execution_count": null,
   "metadata": {},
   "outputs": [],
   "source": []
  },
  {
   "cell_type": "code",
   "execution_count": null,
   "metadata": {},
   "outputs": [],
   "source": []
  },
  {
   "cell_type": "code",
   "execution_count": null,
   "metadata": {},
   "outputs": [],
   "source": []
  },
  {
   "cell_type": "code",
   "execution_count": null,
   "metadata": {},
   "outputs": [],
   "source": []
  }
 ],
 "metadata": {
  "kernelspec": {
   "display_name": "Python 3",
   "language": "python",
   "name": "python3"
  },
  "language_info": {
   "codemirror_mode": {
    "name": "ipython",
    "version": 3
   },
   "file_extension": ".py",
   "mimetype": "text/x-python",
   "name": "python",
   "nbconvert_exporter": "python",
   "pygments_lexer": "ipython3",
   "version": "3.8.3"
  }
 },
 "nbformat": 4,
 "nbformat_minor": 4
}
